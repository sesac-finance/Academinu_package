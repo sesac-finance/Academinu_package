{
 "cells": [
  {
   "cell_type": "code",
   "execution_count": 17,
   "metadata": {},
   "outputs": [],
   "source": [
    "import requests\n",
    "import json\n",
    "import pandas as pd\n",
    "import time\n",
    "import telegram\n",
    "\n",
    "import enpyong as ep\n",
    "\n",
    "headers= {\n",
    "'user-agent': 'Mozilla/5.0 (Windows NT 10.0; Win64; x64) AppleWebKit/537.36 (KHTML, like Gecko) Chrome/104.0.0.0 Safari/537.36'\n",
    "      } "
   ]
  },
  {
   "cell_type": "code",
   "execution_count": 2,
   "metadata": {},
   "outputs": [],
   "source": [
    "def crawl(url):\n",
    "  res = requests.get(url, headers=headers)\n",
    "\n",
    "  #크롤링한 데이터를 Json형태로 변환\n",
    "  data = json.loads(res.text)\n",
    "  items = data['result']\n",
    "\n",
    "  #변환된 Json데이터를 DataFrame화\n",
    "  df = pd.DataFrame.from_dict(items)\n",
    "  df = df.rename(columns={'hscpNm':'단지명','dealPrcMin':'매매최저가','dealPrcMax':'매매최고가',\n",
    "                        'leasePrcMin':'전세최저가','leasePrcMax':'전세최고가','useAprvYmd':'승인날짜'})\n",
    "\n",
    "  #불필요한 문자들 정규식으로 삭제\n",
    "  df[\"매매최저가\"].replace(\"[a-z<='_>/]\", \"\", regex=True, inplace = True) \n",
    "  df[\"매매최고가\"].replace(\"[a-z<='_>/]\", \"\", regex=True, inplace = True)\n",
    "  df[\"전세최저가\"].replace(\"[a-z<='_>/]\", \"\", regex=True, inplace = True) \n",
    "  df[\"전세최고가\"].replace(\"[a-z<='_>/]\", \"\", regex=True, inplace = True)\n",
    "\n",
    "  #원하는 DataFrame 컬럼을 뽑아온뒤 지역엑셀 파일로 저장\n",
    "  P_list = df[['단지명','전세최저가','전세최고가','승인날짜','매매최저가','매매최고가']]\n",
    "\n",
    "  return P_list\n"
   ]
  },
  {
   "cell_type": "code",
   "execution_count": 5,
   "metadata": {},
   "outputs": [],
   "source": [
    "#수색동\n",
    "su = crawl(ep.url_susaek)\n",
    "su.to_excel('./Legion/수색.xlsx')\n",
    "\n",
    "#갈현동\n",
    "gal1 = crawl(ep.url_galhyun1)\n",
    "gal2 = crawl(ep.url_galhyun2)\n",
    "gal3 = crawl(ep.url_galhyun3)\n",
    "\n",
    "galdf = pd.concat([gal1, gal2, gal3], ignore_index = True)\n",
    "galdf.to_excel('./Legion/갈현.xlsx')\n",
    "\n",
    "#구산동\n",
    "gu1 = crawl(ep.url_gusan1)\n",
    "gu2 = crawl(ep.url_gusan2)\n",
    "gu3 = crawl(ep.url_gusan3)\n",
    "gudf = pd.concat([gu1, gu2, gu3], ignore_index = True)\n",
    "gudf.to_excel('./Legion/구산.xlsx')\n",
    "\n",
    "#녹번동\n",
    "nok = crawl(ep.url_nokbun)\n",
    "nok.to_excel('./Legion/녹번.xlsx')\n",
    "\n",
    "#대조동\n",
    "dae1 = crawl(ep.url_daejo1)\n",
    "dae2 = crawl(ep.url_daejo2)\n",
    "dae3 = crawl(ep.url_daejo3)\n",
    "daedf = pd.concat([dae1, dae2, dae3], ignore_index= True)\n",
    "daedf.to_excel('./Legion/대조.xlsx')\n",
    "\n",
    "#불광동\n",
    "bul1 = crawl(ep.url_bulkwang1)\n",
    "bul2 = crawl(ep.url_bulkwang2)\n",
    "bul3 = crawl(ep.url_bulkwang3)\n",
    "bul4 = crawl(ep.url_bulkwang4)\n",
    "bul5 = crawl(ep.url_bulkwang5)\n",
    "buldf = pd.concat([bul1, bul2, bul3, bul4, bul5], ignore_index= True)\n",
    "buldf.to_excel('./Legion/불광.xlsx')"
   ]
  },
  {
   "cell_type": "code",
   "execution_count": 9,
   "metadata": {},
   "outputs": [
    {
     "ename": "NameError",
     "evalue": "name 'crawl' is not defined",
     "output_type": "error",
     "traceback": [
      "\u001b[1;31m---------------------------------------------------------------------------\u001b[0m",
      "\u001b[1;31mNameError\u001b[0m                                 Traceback (most recent call last)",
      "\u001b[1;32m<ipython-input-9-733ac393c571>\u001b[0m in \u001b[0;36m<module>\u001b[1;34m\u001b[0m\n\u001b[0;32m      1\u001b[0m \u001b[1;31m#신사동\u001b[0m\u001b[1;33m\u001b[0m\u001b[1;33m\u001b[0m\u001b[1;33m\u001b[0m\u001b[0m\n\u001b[1;32m----> 2\u001b[1;33m \u001b[0msinsa1\u001b[0m \u001b[1;33m=\u001b[0m \u001b[0mcrawl\u001b[0m\u001b[1;33m(\u001b[0m\u001b[0mep\u001b[0m\u001b[1;33m.\u001b[0m\u001b[0murl_sinsa1\u001b[0m\u001b[1;33m)\u001b[0m\u001b[1;33m\u001b[0m\u001b[1;33m\u001b[0m\u001b[0m\n\u001b[0m\u001b[0;32m      3\u001b[0m \u001b[0msinsa2\u001b[0m \u001b[1;33m=\u001b[0m \u001b[0mcrawl\u001b[0m\u001b[1;33m(\u001b[0m\u001b[0mep\u001b[0m\u001b[1;33m.\u001b[0m\u001b[0murl_sinsa2\u001b[0m\u001b[1;33m)\u001b[0m\u001b[1;33m\u001b[0m\u001b[1;33m\u001b[0m\u001b[0m\n\u001b[0;32m      4\u001b[0m \u001b[0msinsa3\u001b[0m \u001b[1;33m=\u001b[0m \u001b[0mcrawl\u001b[0m\u001b[1;33m(\u001b[0m\u001b[0mep\u001b[0m\u001b[1;33m.\u001b[0m\u001b[0murl_sinsa3\u001b[0m\u001b[1;33m)\u001b[0m\u001b[1;33m\u001b[0m\u001b[1;33m\u001b[0m\u001b[0m\n\u001b[0;32m      5\u001b[0m \u001b[0msinsa4\u001b[0m \u001b[1;33m=\u001b[0m \u001b[0mcrawl\u001b[0m\u001b[1;33m(\u001b[0m\u001b[0mep\u001b[0m\u001b[1;33m.\u001b[0m\u001b[0murl_sinsa4\u001b[0m\u001b[1;33m)\u001b[0m\u001b[1;33m\u001b[0m\u001b[1;33m\u001b[0m\u001b[0m\n",
      "\u001b[1;31mNameError\u001b[0m: name 'crawl' is not defined"
     ]
    }
   ],
   "source": [
    "#신사동\n",
    "sinsa1 = crawl(ep.url_sinsa1)\n",
    "sinsa2 = crawl(ep.url_sinsa2)\n",
    "sinsa3 = crawl(ep.url_sinsa3)\n",
    "sinsa4 = crawl(ep.url_sinsa4)\n",
    "sinsa5 = crawl(ep.url_sinsa5)\n",
    "sindf = pd.concat([sinsa1, sinsa2, sinsa3, sinsa4, sinsa5], ignore_index= True)\n",
    "sindf.to_excel('./Legion/신사.xlsx')\n",
    "\n",
    "#역촌동\n",
    "yekchon1 = crawl(ep.url_yekchon1)\n",
    "yekchon2 = crawl(ep.url_yekchon2)\n",
    "yekchon3 = crawl(ep.url_yekchon3)\n",
    "yekchon4 = crawl(ep.url_yekchon4)\n",
    "yekchon5 = crawl(ep.url_yekchon5)\n",
    "yekchon6 = crawl(ep.url_yekchon6)\n",
    "yekdf = pd.concat([yekchon1, yekchon2, yekchon3, yekchon4, yekchon5, yekchon6], ignore_index= True)\n",
    "yekdf.to_excel('./Legion/역촌.xlsx')\n",
    "\n",
    "#응암동\n",
    "engam1 =crawl(ep.url_engam1)\n",
    "engam2 =crawl(ep.url_engam2)\n",
    "engam3 =crawl(ep.url_engam3)\n",
    "engam4 =crawl(ep.url_engam4)\n",
    "engam5 =crawl(ep.url_engam5)\n",
    "engam6 =crawl(ep.url_engam6)\n",
    "engam7 =crawl(ep.url_engam7)\n",
    "engam8 =crawl(ep.url_engam8)\n",
    "engdf = pd.concat([engam1, engam2, engam3, engam4, engam5, engam6, engam7, engam8], ignore_index= True)\n",
    "engdf.to_excel('./Legion/응암.xlsx')\n",
    "\n",
    "#증산동\n",
    "jeng1 = crawl(ep.url_jengsan1)\n",
    "jeng2 = crawl(ep.url_jengsan2)\n",
    "jeng3 = crawl(ep.url_jengsan3)\n",
    "#jeng4 = crawl(ep.url_jengsan4)\n",
    "jeng5 = crawl(ep.url_jengsan5)\n",
    "#jeng6 = crawl(ep.url_jengsan6)\n",
    "jeng7 = crawl(ep.url_jengsan7)\n",
    "jeng8 = crawl(ep.url_jengsan8)\n",
    "jeng9 = crawl(ep.url_jengsan9)\n",
    "jengdf = pd.concat([jeng1, jeng2, jeng3, jeng5, jeng7, jeng8, jeng9], ignore_index= True)\n",
    "jengdf.to_excel('./Legion/증산.xlsx')\n",
    "\n",
    "\n",
    "#진관동\n",
    "jin1 = crawl(ep.url_jinkwan1)\n",
    "jin2 = crawl(ep.url_jinkwan2)\n",
    "jin3 = crawl(ep.url_jinkwan3)\n",
    "#jin4 = crawl(ep.url_jinkwan4)\n",
    "jin5 = crawl(ep.url_jinkwan5)\n",
    "#jin6 = crawl(ep.url_jinkwan6)\n",
    "#jin7 = crawl(ep.url_jinkwan7)\n",
    "jin8 = crawl(ep.url_jinkwan8)\n",
    "jin9 = crawl(ep.url_jinkwan9)\n",
    "jin10 = crawl(ep.url_jinkwan10)\n",
    "jindf = pd.concat([jin1, jin2, jin3, jin5, jin8, jin9, jin10], ignore_index=True)\n",
    "jindf.to_excel('./Legion/진관.xlsx')\n"
   ]
  },
  {
   "cell_type": "code",
   "execution_count": 18,
   "metadata": {},
   "outputs": [
    {
     "ename": "KeyboardInterrupt",
     "evalue": "",
     "output_type": "error",
     "traceback": [
      "\u001b[1;31m---------------------------------------------------------------------------\u001b[0m",
      "\u001b[1;31mKeyboardInterrupt\u001b[0m                         Traceback (most recent call last)",
      "\u001b[1;32m<ipython-input-18-c203f08cd019>\u001b[0m in \u001b[0;36m<module>\u001b[1;34m\u001b[0m\n\u001b[1;32m----> 1\u001b[1;33m \u001b[1;32mimport\u001b[0m \u001b[0mcron_alarm\u001b[0m\u001b[1;33m\u001b[0m\u001b[1;33m\u001b[0m\u001b[0m\n\u001b[0m",
      "\u001b[1;32mc:\\Academinu_package\\cron_alarm.py\u001b[0m in \u001b[0;36m<module>\u001b[1;34m\u001b[0m\n\u001b[0;32m     79\u001b[0m \u001b[1;33m\u001b[0m\u001b[0m\n\u001b[0;32m     80\u001b[0m     \u001b[1;31m# 텔레그램 서버 부하 줄이기 위해 3초마다 확인\u001b[0m\u001b[1;33m\u001b[0m\u001b[1;33m\u001b[0m\u001b[1;33m\u001b[0m\u001b[0m\n\u001b[1;32m---> 81\u001b[1;33m     \u001b[0mtime\u001b[0m\u001b[1;33m.\u001b[0m\u001b[0msleep\u001b[0m\u001b[1;33m(\u001b[0m\u001b[1;36m3\u001b[0m\u001b[1;33m)\u001b[0m\u001b[1;33m\u001b[0m\u001b[1;33m\u001b[0m\u001b[0m\n\u001b[0m\u001b[0;32m     82\u001b[0m \u001b[1;33m\u001b[0m\u001b[0m\n\u001b[0;32m     83\u001b[0m \u001b[1;33m\u001b[0m\u001b[0m\n",
      "\u001b[1;31mKeyboardInterrupt\u001b[0m: "
     ]
    }
   ],
   "source": [
    "import cron_alarm"
   ]
  }
 ],
 "metadata": {
  "kernelspec": {
   "display_name": "Python 3.9.4 64-bit",
   "language": "python",
   "name": "python3"
  },
  "language_info": {
   "codemirror_mode": {
    "name": "ipython",
    "version": 3
   },
   "file_extension": ".py",
   "mimetype": "text/x-python",
   "name": "python",
   "nbconvert_exporter": "python",
   "pygments_lexer": "ipython3",
   "version": "3.9.4"
  },
  "orig_nbformat": 4,
  "vscode": {
   "interpreter": {
    "hash": "f022d350694a0f6eb9c72b71eada93d9f918bccd49ffb1eae2427af930a7734d"
   }
  }
 },
 "nbformat": 4,
 "nbformat_minor": 2
}
