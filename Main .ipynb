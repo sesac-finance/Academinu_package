{
 "cells": [
  {
   "cell_type": "code",
   "execution_count": 4,
   "metadata": {},
   "outputs": [],
   "source": [
    "import requests\n",
    "import json\n",
    "import pandas as pd\n",
    "import time\n",
    "import telegram\n",
    "\n",
    "import enpyong as ep\n",
    "\n",
    "headers= {\n",
    "'user-agent': 'Mozilla/5.0 (Windows NT 10.0; Win64; x64) AppleWebKit/537.36 (KHTML, like Gecko) Chrome/104.0.0.0 Safari/537.36'\n",
    "      } "
   ]
  },
  {
   "cell_type": "code",
   "execution_count": 20,
   "metadata": {},
   "outputs": [],
   "source": [
    "def crawl(url):\n",
    "  res = requests.get(url, headers=headers)\n",
    "\n",
    "  #크롤링한 데이터를 Json형태로 변환\n",
    "  data = json.loads(res.text)\n",
    "  items = data['result']\n",
    "\n",
    "  #변환된 Json데이터를 DataFrame화\n",
    "  df = pd.DataFrame.from_dict(items)\n",
    "  df = df.rename(columns={'hscpNm':'단지명','dealPrcMin':'매매최저가','dealPrcMax':'매매최고가',\n",
    "                        'leasePrcMin':'전세최저가','leasePrcMax':'전세최고가','useAprvYmd':'승인날짜'})\n",
    "\n",
    "  #불필요한 문자들 정규식으로 삭제\n",
    "  df[\"매매최저가\"].replace(\"[a-z<='_>/]\", \"\", regex=True, inplace = True) \n",
    "  df[\"매매최고가\"].replace(\"[a-z<='_>/]\", \"\", regex=True, inplace = True)\n",
    "  df[\"전세최저가\"].replace(\"[a-z<='_>/]\", \"\", regex=True, inplace = True) \n",
    "  df[\"전세최고가\"].replace(\"[a-z<='_>/]\", \"\", regex=True, inplace = True)\n",
    "\n",
    "  #원하는 DataFrame 컬럼을 뽑아온뒤 지역엑셀 파일로 저장\n",
    "  P_list = df[['단지명','전세최저가','전세최고가','승인날짜','매매최저가','매매최고가']]\n",
    "\n",
    "  return P_list\n"
   ]
  },
  {
   "cell_type": "code",
   "execution_count": 23,
   "metadata": {},
   "outputs": [],
   "source": [
    "#수색동\n",
    "su = crawl(ep.url_susaek)\n",
    "su.to_excel('./Legion/수색.xlsx')"
   ]
  },
  {
   "cell_type": "code",
   "execution_count": 24,
   "metadata": {},
   "outputs": [],
   "source": [
    "\n",
    "\n",
    "#갈현동\n",
    "gal1 = crawl(ep.url_galhyun1)\n",
    "gal2 = crawl(ep.url_galhyun2)\n",
    "gal3 = crawl(ep.url_galhyun3)\n",
    "\n",
    "galdf = pd.concat([gal1, gal2, gal3], ignore_index = True)\n",
    "galdf.to_excel('./Legion/갈현.xlsx')\n",
    "\n",
    "#구산동\n",
    "gu1 = crawl(ep.url_gusan1)\n",
    "gu2 = crawl(ep.url_gusan2)\n",
    "gu3 = crawl(ep.url_gusan3)\n",
    "gudf = pd.concat([gu1, gu2, gu3], ignore_index = True)\n",
    "gudf.to_excel('./Legion/구산.xlsx')\n",
    "\n",
    "#녹번동\n",
    "nok = crawl(ep.url_nokbun)\n",
    "nok.to_excel('./Legion/녹번.xlsx')\n",
    "\n",
    "#대조동\n",
    "dae1 = crawl(ep.url_daejo1)\n",
    "dae2 = crawl(ep.url_daejo2)\n",
    "dae3 = crawl(ep.url_daejo3)\n",
    "daedf = pd.concat([dae1, dae2, dae3], ignore_index= True)\n",
    "daedf.to_excel('./Legion/대조.xlsx')\n",
    "\n",
    "#불광동\n",
    "bul1 = crawl(ep.url_bulkwang1)\n",
    "bul2 = crawl(ep.url_bulkwang2)\n",
    "bul3 = crawl(ep.url_bulkwang3)\n",
    "bul4 = crawl(ep.url_bulkwang4)\n",
    "bul5 = crawl(ep.url_bulkwang5)\n",
    "buldf = pd.concat([bul1, bul2, bul3, bul4, bul5], ignore_index= True)\n",
    "buldf.to_excel('./Legion/불광.xlsx')"
   ]
  },
  {
   "cell_type": "code",
   "execution_count": 32,
   "metadata": {},
   "outputs": [],
   "source": [
    "#신사동\n",
    "sinsa1 = crawl(ep.url_sinsa1)\n",
    "sinsa2 = crawl(ep.url_sinsa2)\n",
    "sinsa3 = crawl(ep.url_sinsa3)\n",
    "sinsa4 = crawl(ep.url_sinsa4)\n",
    "sinsa5 = crawl(ep.url_sinsa5)\n",
    "sindf = pd.concat([sinsa1, sinsa2, sinsa3, sinsa4, sinsa5], ignore_index= True)\n",
    "sindf.to_excel('./Legion/신사.xlsx')\n",
    "\n",
    "#역촌동\n",
    "yekchon1 = crawl(ep.url_yekchon1)\n",
    "yekchon2 = crawl(ep.url_yekchon2)\n",
    "yekchon3 = crawl(ep.url_yekchon3)\n",
    "yekchon4 = crawl(ep.url_yekchon4)\n",
    "yekchon5 = crawl(ep.url_yekchon5)\n",
    "yekchon6 = crawl(ep.url_yekchon6)\n",
    "yekdf = pd.concat([yekchon1, yekchon2, yekchon3, yekchon4, yekchon5, yekchon6], ignore_index= True)\n",
    "yekdf.to_excel('./Legion/역촌.xlsx')\n",
    "\n",
    "#응암동\n",
    "engam1 =crawl(ep.url_engam1)\n",
    "engam2 =crawl(ep.url_engam2)\n",
    "engam3 =crawl(ep.url_engam3)\n",
    "engam4 =crawl(ep.url_engam4)\n",
    "engam5 =crawl(ep.url_engam5)\n",
    "engam6 =crawl(ep.url_engam6)\n",
    "engam7 =crawl(ep.url_engam7)\n",
    "engam8 =crawl(ep.url_engam8)\n",
    "engdf = pd.concat([engam1, engam2, engam3, engam4, engam5, engam6, engam7, engam8], ignore_index= True)\n",
    "engdf.to_excel('./Legion/응암.xlsx')\n",
    "\n",
    "#증산동\n",
    "jeng1 = crawl(ep.url_jengsan1)\n",
    "jeng2 = crawl(ep.url_jengsan2)\n",
    "jeng3 = crawl(ep.url_jengsan3)\n",
    "#jeng4 = crawl(ep.url_jengsan4)\n",
    "jeng5 = crawl(ep.url_jengsan5)\n",
    "#jeng6 = crawl(ep.url_jengsan6)\n",
    "jeng7 = crawl(ep.url_jengsan7)\n",
    "jeng8 = crawl(ep.url_jengsan8)\n",
    "jeng9 = crawl(ep.url_jengsan9)\n",
    "jengdf = pd.concat([jeng1, jeng2, jeng3, jeng5, jeng7, jeng8, jeng9], ignore_index= True)\n",
    "jengdf.to_excel('./Legion/증산.xlsx')\n",
    "\n",
    "\n",
    "#진관동\n",
    "jin1 = crawl(ep.url_jinkwan1)\n",
    "jin2 = crawl(ep.url_jinkwan2)\n",
    "jin3 = crawl(ep.url_jinkwan3)\n",
    "#jin4 = crawl(ep.url_jinkwan4)\n",
    "jin5 = crawl(ep.url_jinkwan5)\n",
    "#jin6 = crawl(ep.url_jinkwan6)\n",
    "#jin7 = crawl(ep.url_jinkwan7)\n",
    "jin8 = crawl(ep.url_jinkwan8)\n",
    "jin9 = crawl(ep.url_jinkwan9)\n",
    "jin10 = crawl(ep.url_jinkwan10)\n",
    "jindf = pd.concat([jin1, jin2, jin3, jin5, jin8, jin9, jin10], ignore_index=True)\n",
    "jindf.to_excel('./Legion/진관.xlsx')\n"
   ]
  },
  {
   "cell_type": "code",
   "execution_count": 5,
   "metadata": {},
   "outputs": [],
   "source": [
    "telegram_config = {}\n",
    "# config 파일 읽기\n",
    "with open('./Mod/telegram_config', 'r') as f:\n",
    "    # 모든 줄 읽어오기\n",
    "    configs = f.readlines()\n",
    "    # 한 줄씩 확인해서\n",
    "    for config in configs:\n",
    "        # 줄바꿈기호 제거(\\n) 후 =로 문자열 분리\n",
    "        # key, value로 언패킹 (2개 나올것이 확실하기 때문에)\n",
    "        key, value = config.rstrip().split('=')\n",
    "        # config 딕셔너리에 키-값 추가\n",
    "        telegram_config[key] = value\n",
    "\n",
    "token = telegram_config['token']\n"
   ]
  },
  {
   "cell_type": "code",
   "execution_count": 6,
   "metadata": {},
   "outputs": [],
   "source": [
    "bot = telegram.Bot(token)"
   ]
  },
  {
   "cell_type": "code",
   "execution_count": 17,
   "metadata": {},
   "outputs": [],
   "source": [
    "updates = bot.get_updates()"
   ]
  },
  {
   "cell_type": "code",
   "execution_count": 18,
   "metadata": {},
   "outputs": [],
   "source": [
    "chat_id = updates[-1].message.chat.id"
   ]
  },
  {
   "cell_type": "code",
   "execution_count": 19,
   "metadata": {},
   "outputs": [],
   "source": [
    "last_id = updates[-1].update_id"
   ]
  },
  {
   "cell_type": "code",
   "execution_count": 20,
   "metadata": {},
   "outputs": [
    {
     "ename": "KeyboardInterrupt",
     "evalue": "",
     "output_type": "error",
     "traceback": [
      "\u001b[1;31m---------------------------------------------------------------------------\u001b[0m",
      "\u001b[1;31mKeyboardInterrupt\u001b[0m                         Traceback (most recent call last)",
      "\u001b[1;32m<ipython-input-20-cad5c79706e6>\u001b[0m in \u001b[0;36m<module>\u001b[1;34m\u001b[0m\n\u001b[0;32m     52\u001b[0m \u001b[1;33m\u001b[0m\u001b[0m\n\u001b[0;32m     53\u001b[0m     \u001b[1;31m# 텔레그램 서버 부하 줄이기 위해 3초마다 확인\u001b[0m\u001b[1;33m\u001b[0m\u001b[1;33m\u001b[0m\u001b[1;33m\u001b[0m\u001b[0m\n\u001b[1;32m---> 54\u001b[1;33m     \u001b[0mtime\u001b[0m\u001b[1;33m.\u001b[0m\u001b[0msleep\u001b[0m\u001b[1;33m(\u001b[0m\u001b[1;36m3\u001b[0m\u001b[1;33m)\u001b[0m\u001b[1;33m\u001b[0m\u001b[1;33m\u001b[0m\u001b[0m\n\u001b[0m\u001b[0;32m     55\u001b[0m \u001b[1;33m\u001b[0m\u001b[0m\n\u001b[0;32m     56\u001b[0m \u001b[1;33m\u001b[0m\u001b[0m\n",
      "\u001b[1;31mKeyboardInterrupt\u001b[0m: "
     ]
    }
   ],
   "source": [
    "# 서버에서 텔레그램 메시지 확인, 응답 보내기\n",
    "bot.send_message(chat_id, '은평구 아파트 단지 시세조회 시작!\\n원하는 동을 입력하세요\\n(갈현, 구산, 녹번, 대조, 불광, 수색, 신사, 역촌, 응암, 증산, 진관)')\n",
    "while True:\n",
    "    \n",
    "    try:\n",
    "        # 신규 메시지가 없을 경우 에러가 발생 \n",
    "        # list index out of range\n",
    "        # 따라서, try - except 문으로 묶어줌\n",
    "        \n",
    "        new_message = bot.get_updates(offset=last_id)[-1]\n",
    "\n",
    "        if new_message.message.text == '갈현':\n",
    "            # 관련 메시지 발송\n",
    "            bot.send_document(chat_id, open('./Legion/갈현.xlsx', 'rb'))\n",
    "        \n",
    "        elif new_message.message.text == '구산':\n",
    "            bot.send_document(chat_id, open('./Legion/구산.xlsx', 'rb'))\n",
    "\n",
    "        elif new_message.message.text == '녹번':\n",
    "            bot.send_document(chat_id, open('./Legion/녹번.xlsx', 'rb'))\n",
    "\n",
    "        elif new_message.message.text == '대조':\n",
    "            bot.send_document(chat_id, open('./Legion/대조.xlsx', 'rb'))\n",
    "\n",
    "        elif new_message.message.text == '불광':\n",
    "            bot.send_document(chat_id, open('./Legion/불광.xlsx', 'rb'))    \n",
    "\n",
    "        elif new_message.message.text == '수색':\n",
    "            bot.send_document(chat_id, open('./Legion/수색.xlsx', 'rb'))\n",
    "\n",
    "        elif new_message.message.text == '신사':\n",
    "            bot.send_document(chat_id, open('./Legion/신사.xlsx', 'rb'))\n",
    "\n",
    "        elif new_message.message.text == '역촌':\n",
    "            bot.send_document(chat_id, open('./Legion/역촌.xlsx', 'rb'))\n",
    "\n",
    "        elif new_message.message.text == '응암':\n",
    "            bot.send_document(chat_id, open('./Legion/응암.xlsx', 'rb')) \n",
    "\n",
    "        elif new_message.message.text == '증산':\n",
    "            bot.send_document(chat_id, open('./Legion/증산.xlsx', 'rb'))\n",
    "            \n",
    "        elif new_message.message.text == '진관':\n",
    "            bot.send_document(chat_id, open('./Legion/진관.xlsx', 'rb'))\n",
    "\n",
    "         \n",
    " \n",
    "        # offset 값 최신화 (update_id) + 1 해줘서 그 다음부터 메시지부터 확인하도록\n",
    "        last_id = new_message.update_id + 1\n",
    "    except:\n",
    "        pass\n",
    "\n",
    "    # 텔레그램 서버 부하 줄이기 위해 3초마다 확인\n",
    "    time.sleep(3)\n",
    "\n",
    "\n",
    "\n"
   ]
  },
  {
   "cell_type": "code",
   "execution_count": null,
   "metadata": {},
   "outputs": [],
   "source": []
  }
 ],
 "metadata": {
  "kernelspec": {
   "display_name": "Python 3.9.4 64-bit",
   "language": "python",
   "name": "python3"
  },
  "language_info": {
   "codemirror_mode": {
    "name": "ipython",
    "version": 3
   },
   "file_extension": ".py",
   "mimetype": "text/x-python",
   "name": "python",
   "nbconvert_exporter": "python",
   "pygments_lexer": "ipython3",
   "version": "3.9.4"
  },
  "orig_nbformat": 4,
  "vscode": {
   "interpreter": {
    "hash": "f022d350694a0f6eb9c72b71eada93d9f918bccd49ffb1eae2427af930a7734d"
   }
  }
 },
 "nbformat": 4,
 "nbformat_minor": 2
}
