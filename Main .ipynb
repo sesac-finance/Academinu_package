{
 "cells": [
  {
   "cell_type": "code",
   "execution_count": 1,
   "metadata": {},
   "outputs": [],
   "source": [
    "import requests\n",
    "import json\n",
    "import pandas as pd\n",
    "import time\n",
    "import telegram\n",
    "\n",
    "import enpyong as ep\n",
    "\n",
    "headers= {\n",
    "'user-agent': 'Mozilla/5.0 (Windows NT 10.0; Win64; x64) AppleWebKit/537.36 (KHTML, like Gecko) Chrome/104.0.0.0 Safari/537.36'\n",
    "      } \n",
    "\n"
   ]
  },
  {
   "cell_type": "code",
   "execution_count": 3,
   "metadata": {},
   "outputs": [],
   "source": [
    "def crawl(url):\n",
    "  res = requests.get(url, headers=headers)\n",
    "\n",
    "  #크롤링한 데이터를 Json형태로 변환\n",
    "  data = json.loads(res.text)\n",
    "  items = data['result']\n",
    "\n",
    "  #변환된 Json데이터를 DataFrame화\n",
    "  df = pd.DataFrame.from_dict(items)\n",
    "  df = df.rename(columns={'hscpNm':'단지명','dealPrcMin':'매매최저가','dealPrcMax':'매매최고가',\n",
    "                        'leasePrcMin':'전세최저가','leasePrcMax':'전세최고가','useAprvYmd':'승인날짜'})\n",
    "\n",
    "  #불필요한 문자들 정규식으로 삭제\n",
    "  df[\"매매최저가\"].replace(\"[a-z<='_>/]\", \"\", regex=True, inplace = True) \n",
    "  df[\"매매최고가\"].replace(\"[a-z<='_>/]\", \"\", regex=True, inplace = True)\n",
    "  df[\"전세최저가\"].replace(\"[a-z<='_>/]\", \"\", regex=True, inplace = True) \n",
    "  df[\"전세최고가\"].replace(\"[a-z<='_>/]\", \"\", regex=True, inplace = True)\n",
    "\n",
    "  #원하는 DataFrame 컬럼을 뽑아온뒤 지역엑셀 파일로 저장\n",
    "  P_list = df[['단지명','전세최저가','전세최고가','승인날짜','매매최저가','매매최고가']]\n",
    "\n",
    "  return P_list\n"
   ]
  },
  {
   "cell_type": "code",
   "execution_count": 24,
   "metadata": {},
   "outputs": [],
   "source": [
    "#은평구 수색동\n",
    "su = crawl(ep.url_susaek)\n",
    "su.to_excel('./Legion/수색.xlsx')\n",
    "\n",
    "#은평구 갈현동\n",
    "gal1 = crawl(ep.url_galhyun1)\n",
    "gal2 = crawl(ep.url_galhyun2)\n",
    "gal3 = crawl(ep.url_galhyun3)\n",
    "\n",
    "#데이터프레임3개를 합침\n",
    "galdf = pd.concat([gal1, gal2, gal3], ignore_index = True)\n",
    "galdf.to_excel('./Legion/갈현.xlsx')\n",
    "\n",
    "#은평구 구산동\n",
    "gu1 = crawl(ep.url_gusan1)\n",
    "gu2 = crawl(ep.url_gusan2)\n",
    "gu3 = crawl(ep.url_gusan3)\n",
    "\n",
    "gudf = pd.concat([gu1, gu2, gu3], ignore_index = True)\n",
    "gudf.to_excel('./Legion/구산.xlsx')\n",
    "\n",
    "#은평구 녹번동\n",
    "nok = crawl(ep.url_nokbun)\n",
    "nok.to_excel('./Legion/녹번.xlsx')\n",
    "\n",
    "#은평구 대조동\n",
    "dae1 = crawl(ep.url_daejo1)\n",
    "dae2 = crawl(ep.url_daejo2)\n",
    "dae3 = crawl(ep.url_daejo3)\n",
    "\n",
    "daedf = pd.concat([dae1, dae2, dae3], ignore_index= True)\n",
    "daedf.to_excel('./Legion/대조.xlsx')\n",
    "\n",
    "#은평구 불광동\n",
    "bul_list = []\n",
    "\n",
    "bul1 = crawl(ep.url_bulkwang1)\n",
    "bul2 = crawl(ep.url_bulkwang2)\n",
    "bul3 = crawl(ep.url_bulkwang3)\n",
    "bul4 = crawl(ep.url_bulkwang4)\n",
    "bul5 = crawl(ep.url_bulkwang5)\n",
    "\n",
    "buldf = pd.concat([bul1, bul2, bul3, bul4, bul5], ignore_index= True)\n",
    "buldf.to_excel('./Legion/불광.xlsx')\n",
    "\n"
   ]
  },
  {
   "cell_type": "code",
   "execution_count": 14,
   "metadata": {},
   "outputs": [],
   "source": [
    "telegram_config = {}\n",
    "# config 파일 읽기\n",
    "with open('./Mod/telegram_config', 'r') as f:\n",
    "    # 모든 줄 읽어오기\n",
    "    configs = f.readlines()\n",
    "    # 한 줄씩 확인해서\n",
    "    for config in configs:\n",
    "        # 줄바꿈기호 제거(\\n) 후 =로 문자열 분리\n",
    "        # key, value로 언패킹 (2개 나올것이 확실하기 때문에)\n",
    "        key, value = config.rstrip().split('=')\n",
    "        # config 딕셔너리에 키-값 추가\n",
    "        telegram_config[key] = value\n",
    "\n",
    "token = telegram_config['token']\n"
   ]
  },
  {
   "cell_type": "code",
   "execution_count": 15,
   "metadata": {},
   "outputs": [],
   "source": [
    "bot = telegram.Bot(token)"
   ]
  },
  {
   "cell_type": "code",
   "execution_count": 16,
   "metadata": {},
   "outputs": [],
   "source": [
    "updates = bot.get_updates()"
   ]
  },
  {
   "cell_type": "code",
   "execution_count": 17,
   "metadata": {},
   "outputs": [],
   "source": [
    "chat_id = updates[-1].message.chat.id"
   ]
  },
  {
   "cell_type": "code",
   "execution_count": 18,
   "metadata": {},
   "outputs": [],
   "source": [
    "last_id = updates[-1].update_id"
   ]
  },
  {
   "cell_type": "code",
   "execution_count": 22,
   "metadata": {},
   "outputs": [
    {
     "ename": "KeyboardInterrupt",
     "evalue": "",
     "output_type": "error",
     "traceback": [
      "\u001b[1;31m---------------------------------------------------------------------------\u001b[0m",
      "\u001b[1;31mKeyboardInterrupt\u001b[0m                         Traceback (most recent call last)",
      "\u001b[1;32m<ipython-input-22-398418cfef98>\u001b[0m in \u001b[0;36m<module>\u001b[1;34m\u001b[0m\n\u001b[0;32m     38\u001b[0m \u001b[1;33m\u001b[0m\u001b[0m\n\u001b[0;32m     39\u001b[0m     \u001b[1;31m# 텔레그램 서버 부하 줄이기 위해 3초마다 확인\u001b[0m\u001b[1;33m\u001b[0m\u001b[1;33m\u001b[0m\u001b[1;33m\u001b[0m\u001b[0m\n\u001b[1;32m---> 40\u001b[1;33m     \u001b[0mtime\u001b[0m\u001b[1;33m.\u001b[0m\u001b[0msleep\u001b[0m\u001b[1;33m(\u001b[0m\u001b[1;36m3\u001b[0m\u001b[1;33m)\u001b[0m\u001b[1;33m\u001b[0m\u001b[1;33m\u001b[0m\u001b[0m\n\u001b[0m\u001b[0;32m     41\u001b[0m \u001b[1;33m\u001b[0m\u001b[0m\n\u001b[0;32m     42\u001b[0m \u001b[1;33m\u001b[0m\u001b[0m\n",
      "\u001b[1;31mKeyboardInterrupt\u001b[0m: "
     ]
    }
   ],
   "source": [
    "# 서버에서 텔레그램 메시지 확인, 응답 보내기\n",
    "bot.send_message(chat_id, '은평구 아파트 단지 시세조회 시작!\\n원하는 동을 입력하세요\\n(갈현, 구산, 녹번, 대조, 불광, 수색)')\n",
    "while True:\n",
    "    \n",
    "    try:\n",
    "        # 신규 메시지가 없을 경우 에러가 발생 \n",
    "        # list index out of range\n",
    "        # 따라서, try - except 문으로 묶어줌\n",
    "        \n",
    "        new_message = bot.get_updates(offset=last_id)[-1]\n",
    "\n",
    "        if new_message.message.text == '갈현':\n",
    "            # 관련 메시지 발송\n",
    "            bot.send_document(chat_id, open('./Legion/갈현.xlsx', 'rb'))\n",
    "        \n",
    "        elif new_message.message.text == '구산':\n",
    "            bot.send_document(chat_id, open('./Legion/구산.xlsx', 'rb'))\n",
    "\n",
    "        elif new_message.message.text == '녹번':\n",
    "            bot.send_document(chat_id, open('./Legion/녹번.xlsx', 'rb'))\n",
    "\n",
    "        elif new_message.message.text == '대조':\n",
    "            bot.send_document(chat_id, open('./Legion/대조.xlsx', 'rb'))\n",
    "\n",
    "        elif new_message.message.text == '불광':\n",
    "            bot.send_document(chat_id, open('./Legion/불광.xlsx', 'rb'))    \n",
    "\n",
    "        elif new_message.message.text == '수색':\n",
    "            bot.send_document(chat_id, open('./Legion/수색.xlsx', 'rb'))\n",
    "\n",
    "           \n",
    "\n",
    "\n",
    "        # offset 값 최신화 (update_id) + 1 해줘서 그 다음부터 메시지부터 확인하도록\n",
    "        last_id = new_message.update_id + 1\n",
    "    except:\n",
    "        pass\n",
    "\n",
    "    # 텔레그램 서버 부하 줄이기 위해 3초마다 확인\n",
    "    time.sleep(3)\n",
    "\n",
    "\n",
    "\n"
   ]
  },
  {
   "cell_type": "code",
   "execution_count": null,
   "metadata": {},
   "outputs": [],
   "source": []
  }
 ],
 "metadata": {
  "kernelspec": {
   "display_name": "Python 3.9.4 64-bit",
   "language": "python",
   "name": "python3"
  },
  "language_info": {
   "codemirror_mode": {
    "name": "ipython",
    "version": 3
   },
   "file_extension": ".py",
   "mimetype": "text/x-python",
   "name": "python",
   "nbconvert_exporter": "python",
   "pygments_lexer": "ipython3",
   "version": "3.9.4"
  },
  "orig_nbformat": 4,
  "vscode": {
   "interpreter": {
    "hash": "f022d350694a0f6eb9c72b71eada93d9f918bccd49ffb1eae2427af930a7734d"
   }
  }
 },
 "nbformat": 4,
 "nbformat_minor": 2
}
