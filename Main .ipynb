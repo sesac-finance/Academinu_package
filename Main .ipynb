{
 "cells": [
  {
   "cell_type": "code",
   "execution_count": 1,
   "metadata": {},
   "outputs": [],
   "source": [
    "import requests\n",
    "import json\n",
    "import pandas as pd\n",
    "import time\n",
    "import telegram \n",
    "\n",
    "headers= {\n",
    "'user-agent': 'Mozilla/5.0 (Windows NT 10.0; Win64; x64) AppleWebKit/537.36 (KHTML, like Gecko) Chrome/104.0.0.0 Safari/537.36'\n",
    "      } \n",
    "\n"
   ]
  },
  {
   "cell_type": "code",
   "execution_count": 18,
   "metadata": {},
   "outputs": [],
   "source": [
    "def crawl(url):\n",
    "  res = requests.get(url, headers=headers)\n",
    "\n",
    "  #크롤링한 데이터를 Json형태로 변환\n",
    "  data = json.loads(res.text)\n",
    "  items = data['result']\n",
    "\n",
    "  #변환된 Json데이터를 DataFrame화\n",
    "  df = pd.DataFrame.from_dict(items)\n",
    "  df = df.rename(columns={'hscpNm':'단지명','dealPrcMin':'매매최저가','dealPrcMax':'매매최고가',\n",
    "                        'leasePrcMin':'전세최저가','leasePrcMax':'전세최고가','useAprvYmd':'승인날짜'})\n",
    "\n",
    "  #불필요한 문자들 정규식으로 삭제\n",
    "  df[\"매매최저가\"].replace(\"[a-z<='_>/]\", \"\", regex=True, inplace = True) \n",
    "  df[\"매매최고가\"].replace(\"[a-z<='_>/]\", \"\", regex=True, inplace = True)\n",
    "  df[\"전세최저가\"].replace(\"[a-z<='_>/]\", \"\", regex=True, inplace = True) \n",
    "  df[\"전세최고가\"].replace(\"[a-z<='_>/]\", \"\", regex=True, inplace = True)\n",
    "\n",
    "  #원하는 DataFrame 컬럼을 뽑아온뒤 지역엑셀 파일로 저장\n",
    "  P_list = df[['단지명','전세최저가','전세최고가','승인날짜','매매최저가','매매최고가']]\n",
    "\n",
    "  return P_list\n"
   ]
  },
  {
   "cell_type": "code",
   "execution_count": 20,
   "metadata": {},
   "outputs": [],
   "source": [
    "#은평구 수색동\n",
    "url_susaek = \"https://m.land.naver.com/cluster/ajax/complexList?rletTpCd=APT&tradTpCd=A1&z=15&lat=37.5867032&lon=126.8957615&btm=37.5771805&lft=126.8800116&top=37.5962247&rgt=126.9115114&showR0=&totCnt=8&cortarNo=1138010100&isOnlyIsale=false \"\n",
    "df = crawl(url_susaek)\n",
    "df.to_excel('./Legion/수색.xlsx')"
   ]
  },
  {
   "cell_type": "code",
   "execution_count": 23,
   "metadata": {},
   "outputs": [],
   "source": [
    "#영등포구 문래동6가\n",
    "url_mulae6 = \"https://m.land.naver.com/cluster/ajax/complexList?rletTpCd=APT&tradTpCd=A1&z=16&lat=37.5213424&lon=126.8838777&btm=37.516577&lft=126.8760028&top=37.5261074&rgt=126.8917527&showR0=&totCnt=10&cortarNo=1156012400&isOnlyIsale=false\"\n",
    "df =crawl(url_mulae6)\n",
    "df.to_excel('./Legion/문래6가.xlsx')"
   ]
  },
  {
   "cell_type": "code",
   "execution_count": 24,
   "metadata": {},
   "outputs": [],
   "source": [
    "#영등포구 여의도동\n",
    "url_yeido = \"https://m.land.naver.com/cluster/ajax/complexList?itemId=2122100121&mapKey=&lgeo=2122100121&rletTpCd=APT&tradTpCd=A1&z=14&lat=37.5304093&lon=126.9357179&btm=37.5113483&lft=126.904218&top=37.5494655&rgt=126.9672177&cortarNo=1156011000&isOnlyIsale=false\"\n",
    "df = crawl(url_yeido)\n",
    "df.to_excel('./Legion/여의도.xlsx')"
   ]
  },
  {
   "cell_type": "code",
   "execution_count": 25,
   "metadata": {},
   "outputs": [],
   "source": [
    "#강남구 대치동\n",
    "url_daech = \"https://m.land.naver.com/cluster/ajax/complexList?rletTpCd=APT&tradTpCd=A1&z=15&lat=37.4996377&lon=127.057867&btm=37.4902571&lft=127.0420741&top=37.5090171&rgt=127.0736598&showR0=&totCnt=66&cortarNo=1168010600\"\n",
    "df = crawl(url_daech)\n",
    "df.to_excel('./Legion/대치.xlsx')"
   ]
  },
  {
   "cell_type": "code",
   "execution_count": 39,
   "metadata": {},
   "outputs": [],
   "source": [
    "telegram_config = {}\n",
    "# config 파일 읽기\n",
    "with open('./Mod/telegram_config', 'r') as f:\n",
    "    # 모든 줄 읽어오기\n",
    "    configs = f.readlines()\n",
    "    # 한 줄씩 확인해서\n",
    "    for config in configs:\n",
    "        # 줄바꿈기호 제거(\\n) 후 =로 문자열 분리\n",
    "        # key, value로 언패킹 (2개 나올것이 확실하기 때문에)\n",
    "        key, value = config.rstrip().split('=')\n",
    "        # config 딕셔너리에 키-값 추가\n",
    "        telegram_config[key] = value\n",
    "\n",
    "token = telegram_config['token']\n"
   ]
  },
  {
   "cell_type": "code",
   "execution_count": 40,
   "metadata": {},
   "outputs": [],
   "source": [
    "bot = telegram.Bot(token)"
   ]
  },
  {
   "cell_type": "code",
   "execution_count": 41,
   "metadata": {},
   "outputs": [],
   "source": [
    "updates = bot.get_updates()"
   ]
  },
  {
   "cell_type": "code",
   "execution_count": 42,
   "metadata": {},
   "outputs": [],
   "source": [
    "chat_id = updates[-1].message.chat.id"
   ]
  },
  {
   "cell_type": "code",
   "execution_count": 46,
   "metadata": {},
   "outputs": [],
   "source": [
    "last_id = updates[-1].update_id"
   ]
  },
  {
   "cell_type": "code",
   "execution_count": 45,
   "metadata": {},
   "outputs": [
    {
     "ename": "KeyboardInterrupt",
     "evalue": "",
     "output_type": "error",
     "traceback": [
      "\u001b[1;31m---------------------------------------------------------------------------\u001b[0m",
      "\u001b[1;31mKeyboardInterrupt\u001b[0m                         Traceback (most recent call last)",
      "\u001b[1;32m<ipython-input-45-975f90a2586d>\u001b[0m in \u001b[0;36m<module>\u001b[1;34m\u001b[0m\n\u001b[0;32m     29\u001b[0m \u001b[1;33m\u001b[0m\u001b[0m\n\u001b[0;32m     30\u001b[0m     \u001b[1;31m# 텔레그램 서버 부하 줄이기 위해 3초마다 확인\u001b[0m\u001b[1;33m\u001b[0m\u001b[1;33m\u001b[0m\u001b[1;33m\u001b[0m\u001b[0m\n\u001b[1;32m---> 31\u001b[1;33m     \u001b[0mtime\u001b[0m\u001b[1;33m.\u001b[0m\u001b[0msleep\u001b[0m\u001b[1;33m(\u001b[0m\u001b[1;36m3\u001b[0m\u001b[1;33m)\u001b[0m\u001b[1;33m\u001b[0m\u001b[1;33m\u001b[0m\u001b[0m\n\u001b[0m\u001b[0;32m     32\u001b[0m \u001b[1;33m\u001b[0m\u001b[0m\n\u001b[0;32m     33\u001b[0m \u001b[1;33m\u001b[0m\u001b[0m\n",
      "\u001b[1;31mKeyboardInterrupt\u001b[0m: "
     ]
    }
   ],
   "source": [
    "# 서버에서 텔레그램 메시지 확인, 응답 보내기\n",
    "bot.send_message(chat_id, '아파트 단지 시세조회 시작\\n수색/문래6가/여의도/대치 중에 한곳을 입력하세요\\n예>대치')\n",
    "while True:\n",
    "    \n",
    "    try:\n",
    "        # 신규 메시지가 없을 경우 에러가 발생 \n",
    "        # list index out of range\n",
    "        # 따라서, try - except 문으로 묶어줌\n",
    "        \n",
    "        new_message = bot.get_updates(offset=last_id)[-1]\n",
    "\n",
    "        if new_message.message.text == '대치':\n",
    "            # 관련 메시지 발송\n",
    "            bot.send_document(chat_id, open('/./gitsmw/Agora/Legion/대치.xlsx', 'rb'))\n",
    "        \n",
    "        elif new_message.message.text == '수색':\n",
    "            bot.send_document(chat_id, open('/./gitsmw/Agora/Legion/수색.xlsx', 'rb'))\n",
    "\n",
    "        elif new_message.message.text == '문래6가':\n",
    "            bot.send_document(chat_id, open('/./gitsmw/Agora/Legion/문래6가.xlsx', 'rb'))\n",
    "\n",
    "        elif new_message.message.text == '여의도':\n",
    "            bot.send_document(chat_id, open('/./gitsmw/Agora/Legion/여의도.xlsx', 'rb'))\n",
    "\n",
    "        # offset 값 최신화 (update_id) + 1 해줘서 그 다음부터 메시지부터 확인하도록\n",
    "        last_id = new_message.update_id + 1\n",
    "    except:\n",
    "        pass\n",
    "\n",
    "    # 텔레그램 서버 부하 줄이기 위해 3초마다 확인\n",
    "    time.sleep(3)\n",
    "\n",
    "\n",
    "\n"
   ]
  },
  {
   "cell_type": "code",
   "execution_count": null,
   "metadata": {},
   "outputs": [],
   "source": []
  }
 ],
 "metadata": {
  "kernelspec": {
   "display_name": "Python 3.9.4 64-bit",
   "language": "python",
   "name": "python3"
  },
  "language_info": {
   "codemirror_mode": {
    "name": "ipython",
    "version": 3
   },
   "file_extension": ".py",
   "mimetype": "text/x-python",
   "name": "python",
   "nbconvert_exporter": "python",
   "pygments_lexer": "ipython3",
   "version": "3.9.4"
  },
  "orig_nbformat": 4,
  "vscode": {
   "interpreter": {
    "hash": "f022d350694a0f6eb9c72b71eada93d9f918bccd49ffb1eae2427af930a7734d"
   }
  }
 },
 "nbformat": 4,
 "nbformat_minor": 2
}
